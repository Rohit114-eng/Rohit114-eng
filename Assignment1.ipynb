{
 "cells": [
  {
   "cell_type": "markdown",
   "id": "545cc3b9-5e49-4e87-88b3-c1221e0592fe",
   "metadata": {},
   "source": [
    "## Problem 1: Write a program that will give you in hand monthly salary after deduction on CTC - HRA(10%), DA(5%), PF(3%) and taxes deduction as below:\n",
    "Salary(Lakhs) : Tax(%)"
   ]
  },
  {
   "cell_type": "code",
   "execution_count": null,
   "id": "ea4c3509-f28c-486c-bfa8-7a24077ceb98",
   "metadata": {},
   "outputs": [],
   "source": [
    "Below 5 : 0%\n",
    "5-10 : 10%\n",
    "10-20 : 20%\n",
    "aboove 20 : 30%\n",
    "[ ]\n",
    "\n"
   ]
  },
  {
   "cell_type": "code",
   "execution_count": 2,
   "id": "fa91f059-b92c-4367-9350-477d948a957b",
   "metadata": {},
   "outputs": [
    {
     "name": "stdout",
     "output_type": "stream",
     "text": [
      "260000\n"
     ]
    }
   ],
   "source": [
    "def computeSalary( basic, grade):\n",
    "\t\n",
    "\thra = 10 * basic\n",
    "\tda = 5 * basic\n",
    "\tpf = 3 * basic\n",
    "\t\n",
    "\tif grade == 'A':\n",
    "\t\tallowance = 0.500\n",
    "\telif grade == 'B': \n",
    "\t\tallowance = 200\n",
    "\telse:\n",
    "\t\tallowance = 600;\n",
    "\t\n",
    "\tgross = round(basic + hra + da +\n",
    "\t\t\t\t\tallowance - pf)\n",
    "\t\t\t\t\t\n",
    "\treturn gross\n",
    "if __name__ == '__main__': \n",
    "\t\n",
    "\tbasic = 20000\n",
    "\tgrade = 'A'\n",
    "\tprint(computeSalary(basic, grade));"
   ]
  },
  {
   "cell_type": "markdown",
   "id": "c8d3a6fc-73a8-4c63-82b4-b6befc46201d",
   "metadata": {},
   "source": [
    "## Problem 2: Write a program that take a user input of three angles and will find out whether it can form a triangle or not.\n"
   ]
  },
  {
   "cell_type": "code",
   "execution_count": 3,
   "id": "8f3796dd-435c-4475-a900-ce91a1b81447",
   "metadata": {},
   "outputs": [
    {
     "name": "stdin",
     "output_type": "stream",
     "text": [
      "enter the traingle side- 60\n",
      "enter the traingle side- 60\n",
      "enter the traingle side- 60\n"
     ]
    },
    {
     "name": "stdout",
     "output_type": "stream",
     "text": [
      "it is a traingle\n"
     ]
    }
   ],
   "source": [
    "s1 = int(input(\"enter the traingle side-\"))\n",
    "s2 = int(input(\"enter the traingle side-\"))\n",
    "s3 = int(input(\"enter the traingle side-\"))\n",
    "sum = s1+s2+s3\n",
    "if(sum==180):\n",
    "    print(\"it is a traingle\")\n",
    "else:\n",
    "    print(\"it is not a traingle\")"
   ]
  },
  {
   "cell_type": "markdown",
   "id": "77f562a0-6b1d-4007-a006-100a0f75bf1a",
   "metadata": {},
   "source": [
    "## Problem 3: Write a program that will take user input of cost price and selling price and determines whether its a loss or a profit."
   ]
  },
  {
   "cell_type": "code",
   "execution_count": 4,
   "id": "ffd04179-369a-4aec-b243-c41221e7e5df",
   "metadata": {},
   "outputs": [
    {
     "name": "stdin",
     "output_type": "stream",
     "text": [
      "Enter the cost Price of an Item : 230\n",
      "Enter the Selling Price of an Item : 350\n"
     ]
    },
    {
     "name": "stdout",
     "output_type": "stream",
     "text": [
      "Profit : 120.0\n"
     ]
    }
   ],
   "source": [
    " cost_price=float(input(\"Enter the cost Price of an Item :\"))\n",
    "selling_price=float(input(\"Enter the Selling Price of an Item :\"))\n",
    "if (selling_price > cost_price):\n",
    "\tprofit = selling_price - cost_price\n",
    "\tprint(\"Profit :\",profit)\n",
    "elif( cost_price > selling_price):\n",
    "\tloss = cost_price - selling_price\n",
    "\tprint(\"Loss :\",loss)\n",
    "else:\n",
    "\tprint(\"No Profit No Loss\")"
   ]
  },
  {
   "cell_type": "markdown",
   "id": "3e527ef8-cc7f-4efc-bf05-1df5c62f52a3",
   "metadata": {},
   "source": [
    "## Problem 4: Write a menu-driven program -"
   ]
  },
  {
   "cell_type": "code",
   "execution_count": 5,
   "id": "47f72255-4b54-4743-a9d3-387ccba3cb2d",
   "metadata": {},
   "outputs": [
    {
     "name": "stdin",
     "output_type": "stream",
     "text": [
      "\n",
      "Hii select one option\n",
      "1. cms to ft\n",
      "2. km to miles\n",
      "3. USD to INR\n",
      "4. Exit\n",
      "\n",
      " 3\n",
      "enter your USD value 240\n"
     ]
    },
    {
     "name": "stdout",
     "output_type": "stream",
     "text": [
      "INR value is   17580.0\n"
     ]
    }
   ],
   "source": [
    "menu = input(\"\"\"\n",
    "Hii select one option\n",
    "1. cms to ft\n",
    "2. km to miles\n",
    "3. USD to INR\n",
    "4. Exit\n",
    "\n",
    "\"\"\")\n",
    "if menu ==\"1\":\n",
    "    cm = float(input(\"enter your cm value\"))\n",
    "    print(\"ft value is \", 0.02370*cm)\n",
    "elif menu == \"2\":\n",
    "    km =eval(input(\"enter your km value\"))\n",
    "    print(\"miles value is  \",0.52*km)\n",
    "elif menu ==\"3\":\n",
    "     USD = eval(input(\"enter your USD value\"))\n",
    "     print(\"INR value is  \",73.25*USD)\n",
    "else:\n",
    "    print(\"Exit\")"
   ]
  },
  {
   "cell_type": "markdown",
   "id": "3747cbd3-96da-448f-a504-90684ca1d204",
   "metadata": {},
   "source": [
    "## Problem 5: Display Fibonacci series up to 10 terms."
   ]
  },
  {
   "cell_type": "code",
   "execution_count": 6,
   "id": "098fe657-7548-48c4-967c-3086c7979bf2",
   "metadata": {},
   "outputs": [
    {
     "name": "stdout",
     "output_type": "stream",
     "text": [
      "0\n",
      "1\n",
      "1\n",
      "2\n",
      "3\n",
      "5\n",
      "8\n",
      "13\n",
      "21\n",
      "34\n"
     ]
    }
   ],
   "source": [
    "num_terms = 10\n",
    "\n",
    "a, b = 0, 1\n",
    "\n",
    "for _ in range(num_terms):\n",
    "    \n",
    "    print(a)\n",
    "\n",
    "    temp = a + b\n",
    "\n",
    "    a = b\n",
    "    b = temp"
   ]
  },
  {
   "cell_type": "markdown",
   "id": "c570cd8a-afc0-4275-befa-994c168b99bf",
   "metadata": {},
   "source": [
    "## Problem 6 - Find the factorial of a given number."
   ]
  },
  {
   "cell_type": "code",
   "execution_count": 7,
   "id": "401c36ce-effe-4f33-87b8-7cb8ab01ad43",
   "metadata": {},
   "outputs": [
    {
     "name": "stdout",
     "output_type": "stream",
     "text": [
      "Factorial of 5 is 120\n"
     ]
    }
   ],
   "source": [
    "# factorial of given number\n",
    "def factorial(n):\n",
    "    \n",
    "    return 1 if (n==1 or n==0) else n * factorial(n - 1) \n",
    "\n",
    "num = 5\n",
    "print(\"Factorial of\",num,\"is\",factorial(num))\n"
   ]
  },
  {
   "cell_type": "markdown",
   "id": "10fdac0f-3bac-40d8-85e1-8687730de00b",
   "metadata": {},
   "source": [
    "## Problem 7 - Reverse a given integer number."
   ]
  },
  {
   "cell_type": "code",
   "execution_count": 8,
   "id": "3e725525-2384-4866-8787-5ca81bb3200a",
   "metadata": {},
   "outputs": [
    {
     "data": {
      "text/plain": [
       "'24567'"
      ]
     },
     "execution_count": 8,
     "metadata": {},
     "output_type": "execute_result"
    }
   ],
   "source": [
    "str1 = \"76542\"\n",
    "str1[0:]\n",
    "str1[::-1]"
   ]
  },
  {
   "cell_type": "markdown",
   "id": "0e26a25b-302a-46aa-a5f9-946c07a5a2d6",
   "metadata": {},
   "source": [
    "## Problem 8: Take a user input as integer N Find out the sum from 1 to N. If any number if divisible by 5, then skip that number.And if the sum is greater than 300, don't need to calculate the sum further more.Print the final result. And don't use for loop to solve this problem."
   ]
  },
  {
   "cell_type": "code",
   "execution_count": 9,
   "id": "878de25a-8a97-4ed3-aa5c-dd20da0066f2",
   "metadata": {},
   "outputs": [
    {
     "name": "stdout",
     "output_type": "stream",
     "text": [
      "NO\n"
     ]
    }
   ],
   "source": [
    "def isDivisible(n):\n",
    "\n",
    "\ttemp = n\n",
    "\n",
    "\tsum = 0;\n",
    "\twhile (n): \n",
    "\t\n",
    "\t\tk = n % 10;\n",
    "\t\tsum += k;\n",
    "\t\tn /= 10;\n",
    "\t\n",
    "\tif (temp % sum == 0):\n",
    "\t\treturn \"YES\";\n",
    "\n",
    "\treturn \"NO\";\n",
    "\n",
    "n = 123;\n",
    "\n",
    "print(isDivisible(n));"
   ]
  },
  {
   "cell_type": "markdown",
   "id": "83cadcb4-3460-4dfd-aa72-89e2ac1fe9d7",
   "metadata": {},
   "source": [
    "## Problem 9: Write a program that keeps on accepting a number from the user until the user enters Zero. Display the sum and average of all the numbers."
   ]
  },
  {
   "cell_type": "code",
   "execution_count": 10,
   "id": "506387f6-5b0b-48a0-884d-1db1d6d48537",
   "metadata": {},
   "outputs": [
    {
     "name": "stdin",
     "output_type": "stream",
     "text": [
      "Enter number 5\n"
     ]
    },
    {
     "name": "stdout",
     "output_type": "stream",
     "text": [
      "Sum of first  5 numbers is:  15\n",
      "Average of  5 numbers is:  3.0\n"
     ]
    }
   ],
   "source": [
    "n = int(input(\"Enter number\"))\n",
    "sum = 0\n",
    "# loop from 1 to n\n",
    "for num in range(1, n + 1, 1):\n",
    "    sum = sum + num\n",
    "print(\"Sum of first \", n, \"numbers is: \", sum)\n",
    "average = sum / n\n",
    "print(\"Average of \", n, \"numbers is: \", average)"
   ]
  },
  {
   "cell_type": "markdown",
   "id": "9320fcdd-a38c-490a-b700-e49a367ece90",
   "metadata": {},
   "source": [
    "## Problem 9: Write a program which will find all such numbers which are divisible by 7 but are not a multiple of 5, between 2000 and 3200 (both included). The numbers obtained should be printed in a comma-separated sequence on a single line."
   ]
  },
  {
   "cell_type": "code",
   "execution_count": 11,
   "id": "0da6d52b-70f1-4bea-883c-a3c8e8869fbc",
   "metadata": {},
   "outputs": [
    {
     "name": "stdout",
     "output_type": "stream",
     "text": [
      "1505,1540,1575,1610,1645,1680,1715,1750,1785,1820,1855,1890,1925,1960,1995,2030,2065,2100,2135,2170,2205,2240,2275,2310,2345,2380,2415,2450,2485,2520,2555,2590,2625,2660,2695\n"
     ]
    }
   ],
   "source": [
    "nl = []\n",
    "\n",
    "for x in range(1500, 2701):\n",
    "\n",
    "    if (x % 7 == 0) and (x % 5 == 0):\n",
    "        \n",
    "        nl.append(str(x))\n",
    "\n",
    "print(','.join(nl))\n"
   ]
  },
  {
   "cell_type": "markdown",
   "id": "2c827bbb-0537-48dc-ab30-f3562f3399ca",
   "metadata": {},
   "source": [
    "## Problem 10: Write a program, which will find all such numbers between 1000 and 3000 (both included) such that each digit of the number is an even number. The numbers obtained should be printed in a space-separated sequence on a single line."
   ]
  },
  {
   "cell_type": "code",
   "execution_count": 12,
   "id": "84ef4f18-83e6-42f3-9499-a8d8b384b037",
   "metadata": {},
   "outputs": [
    {
     "name": "stdout",
     "output_type": "stream",
     "text": [
      "200,202,204,206,208,220,222,224,226,228,240,242,244,246,248,260,262,264,266,268,280,282,284,286,288,400\n"
     ]
    }
   ],
   "source": [
    "# Create an empty list named 'items'\n",
    "items = []\n",
    "\n",
    "for i in range(100, 401):\n",
    "    \n",
    "    s = str(i)\n",
    "    \n",
    "    if (int(s[0]) % 2 == 0) and (int(s[1]) % 2 == 0) and (int(s[2]) % 2 == 0):\n",
    "    \n",
    "        items.append(s)\n",
    "\n",
    "\n",
    "print(\",\".join(items)) \n"
   ]
  },
  {
   "cell_type": "markdown",
   "id": "bbcccff0-6c62-4616-90e7-bc6b4db82a72",
   "metadata": {},
   "source": [
    "## Problem 11: A robot moves in a plane starting from the original point (0,0). The robot can move toward UP, DOWN, LEFT and RIGHT with a given steps."
   ]
  },
  {
   "cell_type": "code",
   "execution_count": null,
   "id": "1376320a-e137-453e-8b54-b7541dbb741e",
   "metadata": {},
   "outputs": [],
   "source": [
    "The trace of robot movement is shown as the following:\n",
    "\n",
    "UP 5\n",
    "DOWN 3\n",
    "LEFT 3\n",
    "RIGHT 2\n",
    "!\n"
   ]
  },
  {
   "cell_type": "code",
   "execution_count": 2,
   "id": "c83ee419-9e64-4a0f-9fda-8c93c3729fc4",
   "metadata": {},
   "outputs": [
    {
     "name": "stdout",
     "output_type": "stream",
     "text": [
      "Final Position: ( 2 ,  3 )\n"
     ]
    }
   ],
   "source": [
    "# Python3 implementation to find final position\n",
    "\n",
    "def finalPosition(move):\n",
    "\n",
    "\tl = len(move)\n",
    "\tcountUp, countDown = 0, 0\n",
    "\tcountLeft, countRight = 0, 0\n",
    "    \n",
    "\tfor i in range(l):\n",
    "\n",
    "\t\tif (move[i] == 'U'):\n",
    "\t\t\tcountUp += 1\n",
    "\n",
    "\t\telif(move[i] == 'D'):\n",
    "\t\t\tcountDown += 1\n",
    "\n",
    "\t\telif(move[i] == 'L'):\n",
    "\t\t\tcountLeft += 1\n",
    "\n",
    "\t\telif(move[i] == 'R'):\n",
    "\t\t\tcountRight += 1\n",
    "\n",
    "\tprint(\"Final Position: (\", (countRight - countLeft),\n",
    "\t\t\", \", (countUp - countDown), \")\")\n",
    "\n",
    "if __name__ == '__main__':\n",
    "\tmove = \"UDDLLRUUUDUURUDDUULLDRRRR\"\n",
    "\tfinalPosition(move)"
   ]
  },
  {
   "cell_type": "markdown",
   "id": "eae28525-4e62-4c35-bf0f-163e4e95396e",
   "metadata": {},
   "source": [
    "## Problem 12:Write a program to print whether a given number is a prime number or not"
   ]
  },
  {
   "cell_type": "code",
   "execution_count": 15,
   "id": "ac40aee0-b6fe-4364-aa72-8e4727083b59",
   "metadata": {},
   "outputs": [
    {
     "name": "stdout",
     "output_type": "stream",
     "text": [
      "11 is a prime number\n"
     ]
    }
   ],
   "source": [
    "num = 11\n",
    "\n",
    "if num > 1:\n",
    "    \n",
    "    for i in range(2, (num//2)+1):\n",
    "        \n",
    "        if (num % i) == 0:\n",
    "            print(num, \"is not a prime number\")\n",
    "            break\n",
    "    else:\n",
    "        print(num, \"is a prime number\")\n",
    "else:\n",
    "    print(num, \"is not a prime number\")\n"
   ]
  },
  {
   "cell_type": "markdown",
   "id": "6f37806f-8594-412e-b30b-25a6a8bb5a87",
   "metadata": {},
   "source": [
    "## Problem 13:Print all the Armstrong numbers in a given range.\n"
   ]
  },
  {
   "cell_type": "code",
   "execution_count": null,
   "id": "9d67c7df-2ad1-4528-bf4e-a437e62a68cb",
   "metadata": {},
   "outputs": [
    {
     "name": "stdin",
     "output_type": "stream",
     "text": [
      "enter lower range: 153\n",
      "enter upeper range: 407\n"
     ]
    }
   ],
   "source": [
    "lower_Range = int(input(\"enter lower range:\"))\n",
    "upper_Range = int(input(\"enter upeper range:\"))\n",
    "\n",
    "for n in range(lower_Range,upper_Range + 1):\n",
    "    sum=0\n",
    "    temp=n\n",
    "    while temp > 0:\n",
    "        digit = temp % 10\n",
    "        sum = sum + digit **3\n",
    "if n == sum:\n",
    "    print(n)"
   ]
  },
  {
   "cell_type": "markdown",
   "id": "c46ee37a-e482-47a3-acff-b96939adf343",
   "metadata": {},
   "source": [
    "## Problem 14:Calculate the angle between the hour hand and minute hand."
   ]
  },
  {
   "cell_type": "code",
   "execution_count": null,
   "id": "16c78507-2fee-43cc-ad42-cdb39db50d8b",
   "metadata": {},
   "outputs": [],
   "source": [
    "Note: There can be two angles between hands; we need to print a minimum of two. \n",
    "Also, we need to print the floor of the final result angle. \n",
    "For example, if the final angle is 10.61, we need to print 10.\n",
    "\n",
    "Input:\n",
    "H = 9 , M = 0\n",
    "Output:\n",
    "90"
   ]
  },
  {
   "cell_type": "code",
   "execution_count": null,
   "id": "1c0e089c-28d3-4ea1-b81e-9b0a73156034",
   "metadata": {},
   "outputs": [],
   "source": [
    "# Python program to find angle \n",
    "# between hour and minute hand\n",
    "def calcAngle(h,m):\n",
    "\t\t\n",
    "\t\tif (h < 0 or m < 0 or h > 12 or m > 60):\n",
    "\t\t\tprint('Wrong input')\n",
    "\t\t\n",
    "\t\tif (h == 12):\n",
    "\t\t\th = 0\n",
    "\t\tif (m == 60):\n",
    "\t\t\tm = 0\n",
    "\t\t\th += 1;\n",
    "\t\t\tif(h>12):\n",
    "\t\t\t\th = h-12;\n",
    "                \n",
    "\t\thour_angle = 0.5 * (h * 60 + m)\n",
    "\t\tminute_angle = 6 * m\n",
    "\t\t\n",
    "\t\tangle = abs(hour_angle - minute_angle)\n",
    "\t\t\n",
    "\t\tangle = min(360 - angle, angle)\n",
    "\t\t\n",
    "\t\treturn angle\n",
    "h = 9\n",
    "m = 0\n",
    "print('Angle ', calcAngle(h,m))\n"
   ]
  },
  {
   "cell_type": "markdown",
   "id": "fbceefba-8d3f-4386-9495-d7e1201bf273",
   "metadata": {},
   "source": [
    "## Problem 15:Given two rectangles, find if the given two rectangles overlap or not.A rectangle is denoted by providing the x and y coordinates of two points: the left top corner and the right bottom corner of the rectangle.Two rectangles sharing a side are considered overlapping. (L1 and R1 are the extreme points of the first rectangle and L2and R2 are the extreme points of the second rectangle)."
   ]
  },
  {
   "cell_type": "code",
   "execution_count": null,
   "id": "e4847edc-5705-4f1a-8768-41a0d03b2a52",
   "metadata": {},
   "outputs": [],
   "source": [
    "# Python program to check if rectangles overlap\n",
    "class Point:\n",
    "\tdef __init__(self, x, y):\n",
    "\t\tself.x = x\n",
    "\t\tself.y = y\n",
    "\n",
    "def do_overlap(l1, r1, l2, r2):\n",
    "\n",
    "\tif l1.x == r1.x or l1.y == r1.y or r2.x == l2.x or l2.y == r2.y:\n",
    "\t\treturn False\n",
    "\t\n",
    "\tif l1.x > r2.x or l2.x > r1.x:\n",
    "\t\treturn False\n",
    "\n",
    "\tif r1.y > l2.y or r2.y > l1.y:\n",
    "\t\treturn False\n",
    "\n",
    "\treturn True\n",
    "    \n",
    "if __name__ == \"__main__\":\n",
    "\tl1 = Point(0, 10)\n",
    "\tr1 = Point(10, 0)\n",
    "\tl2 = Point(5, 5)\n",
    "\tr2 = Point(15, 0)\n",
    "\n",
    "\tif(do_overlap(l1, r1, l2, r2)):\n",
    "\t\tprint(\"Rectangles Overlap\")\n",
    "\telse:\n",
    "\t\tprint(\"Rectangles Don't Overlap\")\n"
   ]
  },
  {
   "cell_type": "code",
   "execution_count": null,
   "id": "c9487ebb-f3ef-468c-9fc7-986adb68a672",
   "metadata": {},
   "outputs": [],
   "source": []
  }
 ],
 "metadata": {
  "kernelspec": {
   "display_name": "Python 3 (ipykernel)",
   "language": "python",
   "name": "python3"
  },
  "language_info": {
   "codemirror_mode": {
    "name": "ipython",
    "version": 3
   },
   "file_extension": ".py",
   "mimetype": "text/x-python",
   "name": "python",
   "nbconvert_exporter": "python",
   "pygments_lexer": "ipython3",
   "version": "3.11.7"
  },
  "widgets": {
   "application/vnd.jupyter.widget-state+json": {
    "state": {},
    "version_major": 2,
    "version_minor": 0
   }
  }
 },
 "nbformat": 4,
 "nbformat_minor": 5
}
