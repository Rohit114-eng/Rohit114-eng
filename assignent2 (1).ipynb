{
 "cells": [
  {
   "cell_type": "markdown",
   "id": "8710ed3c-018c-4253-8439-1c32ec150d33",
   "metadata": {},
   "source": [
    "## Problem 1 - Print the following pattern. Write a program to use for loop to print the following reverse number pattern."
   ]
  },
  {
   "cell_type": "raw",
   "id": "2346e697-6ae2-400b-9520-e9a4c4ddfa88",
   "metadata": {},
   "source": [
    "5 4 3 2 1 \r\n",
    "4 3 2 1 \r\n",
    "3 2 1 \r\n",
    "2 1 \r\n",
    "1\n"
   ]
  },
  {
   "cell_type": "code",
   "execution_count": 5,
   "id": "7cedd358-895e-43b2-98d5-57ef9c75e68c",
   "metadata": {},
   "outputs": [
    {
     "name": "stdout",
     "output_type": "stream",
     "text": [
      "5 4 3 2 1 \n",
      "4 3 2 1 \n",
      "3 2 1 \n",
      "2 1 \n",
      "1 \n",
      "\n"
     ]
    }
   ],
   "source": [
    "rows = 5\n",
    "for i in range(0, rows + 1):\n",
    "    for j in range(rows - i, 0, -1):\n",
    "        print(j, end=' ')\n",
    "    print()"
   ]
  },
  {
   "cell_type": "markdown",
   "id": "d5ee909f-7f3a-4ecb-b670-e0f0911f7e9e",
   "metadata": {},
   "source": [
    "## Problem 2: Print the following pattern."
   ]
  },
  {
   "cell_type": "raw",
   "id": "a0c71620-d668-4f8f-a6e8-7c5da9989a1a",
   "metadata": {},
   "source": [
    "* \n",
    "* * \n",
    "* * * \n",
    "* * * * \n",
    "* * * * * \n",
    "* * * * \n",
    "* * * \n",
    "* * \n",
    "*"
   ]
  },
  {
   "cell_type": "code",
   "execution_count": 1,
   "id": "bf3bd3dd-1fa6-497f-a1ea-9ab65b15ff89",
   "metadata": {},
   "outputs": [
    {
     "name": "stdout",
     "output_type": "stream",
     "text": [
      "* \n",
      "* * \n",
      "* * * \n",
      "* * * * \n",
      "* * * * * \n",
      "* * * * \n",
      "* * * \n",
      "* * \n",
      "* \n",
      "\n"
     ]
    }
   ],
   "source": [
    "rows = 5\n",
    "for i in range(0, rows):\n",
    "    for j in range(0, i + 1):\n",
    "        print(\"*\", end=' ')\n",
    "    print(\"\\r\")\n",
    "\n",
    "for i in range(rows, 0, -1):\n",
    "    for j in range(0, i - 1):\n",
    "        print(\"*\", end=' ')\n",
    "    print(\"\\r\")"
   ]
  },
  {
   "cell_type": "markdown",
   "id": "870a5ace-585c-4216-a65c-71ac6a4344f7",
   "metadata": {},
   "source": [
    "## Problem 3:Write a program to print the following pattern"
   ]
  },
  {
   "cell_type": "raw",
   "id": "def49800-66fd-4487-a940-aa16877bad29",
   "metadata": {},
   "source": [
    "    *\n",
    "  * * *\n",
    "* * * * *"
   ]
  },
  {
   "cell_type": "code",
   "execution_count": 3,
   "id": "b069136b-b173-4cd4-9cb4-1973e85f9cfd",
   "metadata": {},
   "outputs": [
    {
     "name": "stdout",
     "output_type": "stream",
     "text": [
      "  *\n",
      " ***\n",
      "*****\n"
     ]
    }
   ],
   "source": [
    "def full_pyramid(n):\n",
    "    for i in range(1, n + 1):\n",
    "        for j in range(n - i):\n",
    "            print(\" \", end=\"\")\n",
    "        \n",
    "        for k in range(1, 2*i):\n",
    "            print(\"*\", end=\"\")\n",
    "        print()\n",
    "   \n",
    "full_pyramid(3)\n"
   ]
  },
  {
   "cell_type": "markdown",
   "id": "b2a6d03c-8ea5-4295-bffe-c9ac9f1f2201",
   "metadata": {},
   "source": [
    "## Problem 4:Write a program to print the following pattern"
   ]
  },
  {
   "cell_type": "raw",
   "id": "b6df23a8-c268-4395-9811-0b9f6431831b",
   "metadata": {},
   "source": [
    "1 \n",
    "2 1\n",
    "3 2 1\n",
    "4 3 2 1\n",
    "5 4 3 2 1"
   ]
  },
  {
   "cell_type": "code",
   "execution_count": 15,
   "id": "ab7fc5a8-206b-4836-a3d2-3127b208beb0",
   "metadata": {},
   "outputs": [
    {
     "name": "stdout",
     "output_type": "stream",
     "text": [
      "1\n",
      "21\n",
      "321\n",
      "4321\n",
      "54321\n"
     ]
    }
   ],
   "source": [
    "rows = 6\n",
    "for i in range(1, rows):\n",
    "    for j in range(i,0,-1):\n",
    "        print(j, end='')\n",
    "    print(\"\")   "
   ]
  },
  {
   "cell_type": "markdown",
   "id": "000ee472-d4c5-4629-8b75-bf355a53b073",
   "metadata": {},
   "source": [
    "# Problem 5: Write a python program to find the sum of the series till the nth"
   ]
  },
  {
   "cell_type": "raw",
   "id": "142c36bc-3f5b-466d-9a03-7651e02afb45",
   "metadata": {},
   "source": [
    "1 + x^2/2 + x^3/3 + ... x^n/n\n",
    "n will be provided by the user"
   ]
  },
  {
   "cell_type": "code",
   "execution_count": 20,
   "id": "eec1e547-f845-4d4e-8ca1-aa88f168d2fa",
   "metadata": {},
   "outputs": [
    {
     "name": "stdout",
     "output_type": "stream",
     "text": [
      "3.0\n"
     ]
    }
   ],
   "source": [
    "def SUM(x, n):\n",
    "    total = 1\n",
    "    for i in range(1, n + 1):\n",
    "        total = total + ((x**i)/i)\n",
    "        return total\n",
    "\n",
    "x = 2\n",
    "n = 7\n",
    "s = SUM(x, n)\n",
    "print(round(s, 2))"
   ]
  },
  {
   "cell_type": "markdown",
   "id": "93a3df8f-757b-46af-b0a1-fd6f7f985da7",
   "metadata": {},
   "source": [
    "# problem 6: The natural alogarithm can be apprpximated by the folloeing series "
   ]
  },
  {
   "cell_type": "raw",
   "id": "ce600855-b140-4727-b958-a2873edfb88e",
   "metadata": {},
   "source": [
    "If x is input through the keyboard, write a program to calculate the sum of the first seven terms of this series."
   ]
  },
  {
   "cell_type": "code",
   "execution_count": 26,
   "id": "e076754b-d09a-45cc-9c6a-c6484da22d26",
   "metadata": {},
   "outputs": [
    {
     "name": "stdin",
     "output_type": "stream",
     "text": [
      "Enter the number of terms:  8\n"
     ]
    },
    {
     "name": "stdout",
     "output_type": "stream",
     "text": [
      "The sum of series is 2.72\n"
     ]
    }
   ],
   "source": [
    "n=int(input(\"Enter the number of terms: \"))\n",
    "sum1=0\n",
    "for i in range(1,n+1):\n",
    "    sum1=sum1+(1/i)\n",
    "print(\"The sum of series is\",round(sum1,2))"
   ]
  },
  {
   "cell_type": "markdown",
   "id": "7029f4ab-e159-46dc-aa1f-002e10211b0f",
   "metadata": {},
   "source": [
    "## Problem 7 - Find the sum of the series upto n terms Write a program to calculate the sum of series up to n term. For example, if n =5 the series will become 2 + 22 + 222 + 2222 + 22222 = 24690. Take the user input and then calculate. And the output style should match which is given in the example."
   ]
  },
  {
   "cell_type": "code",
   "execution_count": null,
   "id": "5f64eacb-5f35-4072-b8e9-8a57d845e375",
   "metadata": {},
   "outputs": [],
   "source": [
    "Example 1:\n",
    "\n",
    "Input:\n",
    "\n",
    "5\n",
    "output:\n",
    "\n",
    "2+22+222+2222+22222\n",
    "sum of above series is: 24690"
   ]
  },
  {
   "cell_type": "code",
   "execution_count": 27,
   "id": "9f71b8d3-d024-4151-beba-42d549983d6b",
   "metadata": {},
   "outputs": [
    {
     "name": "stdout",
     "output_type": "stream",
     "text": [
      "24690\n"
     ]
    }
   ],
   "source": [
    "number_of_terms = 5\n",
    "sum1=0\n",
    "for i in range (1, number_of_terms + 1):\n",
    "    sum1 += int('2' * i)\n",
    "print(sum1)"
   ]
  },
  {
   "cell_type": "markdown",
   "id": "a6578c04-20f2-4998-b4ac-5664138a4043",
   "metadata": {},
   "source": [
    "# problem 8: write a program to print all the unique combinations of 1,2,3 and 4\n"
   ]
  },
  {
   "cell_type": "code",
   "execution_count": 2,
   "id": "c079157c-d0b3-444d-a9bf-a7f09bec499c",
   "metadata": {},
   "outputs": [
    {
     "name": "stdout",
     "output_type": "stream",
     "text": [
      "(1,)\n",
      "(2,)\n",
      "(3,)\n",
      "(4,)\n",
      "(1, 2)\n",
      "(1, 3)\n",
      "(1, 4)\n",
      "(2, 3)\n",
      "(2, 4)\n",
      "(3, 4)\n",
      "(1, 2, 3)\n",
      "(1, 2, 4)\n",
      "(1, 3, 4)\n",
      "(2, 3, 4)\n",
      "(1, 2, 3, 4)\n"
     ]
    }
   ],
   "source": [
    "from itertools import combinations\n",
    "\n",
    "def print_unique_combinations():\n",
    "    numbers = [1, 2, 3, 4]\n",
    "    \n",
    "    # Generate combinations of all lengths from 1 to 4\n",
    "    for r in range(1, len(numbers) + 1):\n",
    "        for combo in combinations(numbers, r):\n",
    "            print(combo)\n",
    "\n",
    "print_unique_combinations()"
   ]
  },
  {
   "cell_type": "code",
   "execution_count": 28,
   "id": "db2cf728-85cc-4f4f-9b9a-8a1f946c8606",
   "metadata": {},
   "outputs": [
    {
     "ename": "SyntaxError",
     "evalue": "invalid syntax (2826521784.py, line 1)",
     "output_type": "error",
     "traceback": [
      "\u001b[1;36m  Cell \u001b[1;32mIn[28], line 1\u001b[1;36m\u001b[0m\n\u001b[1;33m    Output:\u001b[0m\n\u001b[1;37m           ^\u001b[0m\n\u001b[1;31mSyntaxError\u001b[0m\u001b[1;31m:\u001b[0m invalid syntax\n"
     ]
    }
   ],
   "source": [
    "Output:\n",
    "\n",
    "1 2 3 4\n",
    "1 2 4 3\n",
    "1 3 2 4\n",
    "1 3 4 2\n",
    "1 4 2 3\n",
    "1 4 3 2\n",
    "2 1 3 4\n",
    "2 1 4 3\n",
    "2 3 1 4\n",
    "2 3 4 1\n",
    "2 4 1 3"
   ]
  },
  {
   "cell_type": "markdown",
   "id": "efe27fdc-d64d-4753-bb05-c6a48685bd9e",
   "metadata": {},
   "source": [
    "## Problem 9: Write a program that will take a decimal number as input and prints out the binary equivalent of the number\n"
   ]
  },
  {
   "cell_type": "code",
   "execution_count": 3,
   "id": "438c9855-84a8-46f9-908f-baa0d7f33462",
   "metadata": {},
   "outputs": [
    {
     "name": "stdout",
     "output_type": "stream",
     "text": [
      "10001"
     ]
    }
   ],
   "source": [
    "def decToBinary(n):\n",
    "    \n",
    "    binaryNum = [0] * n\n",
    "\n",
    "    i = 0;\n",
    "    while (n > 0): \n",
    "\n",
    "        binaryNum[i] = n % 2\n",
    "        n = int(n / 2)\n",
    "        i += 1\n",
    "\n",
    "    for j in range(i - 1, -1, -1):\n",
    "        print(binaryNum[j], end = \"\")\n",
    "\n",
    "n = 17\n",
    "decToBinary(n)"
   ]
  },
  {
   "cell_type": "markdown",
   "id": "72b2529e-f27f-48c7-ad00-1fd6ca5eb6d4",
   "metadata": {},
   "source": [
    "## Problem 10: Write a program that will take 2 numbers as input and prints the LCM and HCF of those 2 numbers\n"
   ]
  },
  {
   "cell_type": "code",
   "execution_count": 4,
   "id": "fa0770e0-cf64-4533-a69f-760e495fbead",
   "metadata": {},
   "outputs": [
    {
     "name": "stdin",
     "output_type": "stream",
     "text": [
      "Enter the first number:  12\n",
      "Enter the second number:  18\n"
     ]
    },
    {
     "name": "stdout",
     "output_type": "stream",
     "text": [
      "First Number is:  12\n",
      "Second Number is:  18\n",
      "LCM of the two numbers is:  36\n"
     ]
    }
   ],
   "source": [
    "a = int(input(\"Enter the first number: \"))\n",
    "b = int(input(\"Enter the second number: \"))\n",
    "\n",
    "HCF = 1\n",
    "\n",
    "for i in range(2,a+1):\n",
    "    if(a%i==0 and b%i==0):\n",
    "        HCF = i\n",
    "\n",
    "print(\"First Number is: \",a)\n",
    "print(\"Second Number is: \",b)\n",
    "\n",
    "LCM = int((a*b)/(HCF))\n",
    "print(\"LCM of the two numbers is: \",LCM)"
   ]
  },
  {
   "cell_type": "markdown",
   "id": "d28b6cc7-59ec-4933-8bc3-4f61dff1561b",
   "metadata": {},
   "source": [
    "## Problem 11: Create Short Form from initial character Given a string create short form ofthe string from Initial character. Short form should be capitalised"
   ]
  },
  {
   "cell_type": "raw",
   "id": "b199936e-7c28-4258-b6bb-9aeaa182fea9",
   "metadata": {},
   "source": [
    "Example:\n",
    "\n",
    "Input:\n",
    "Data science mentorship program\n",
    "\n",
    "output\n",
    "DSMP"
   ]
  },
  {
   "cell_type": "code",
   "execution_count": 6,
   "id": "2529b3fc-a7bd-4cc4-9d1c-74fb7c3268e7",
   "metadata": {},
   "outputs": [
    {
     "name": "stdout",
     "output_type": "stream",
     "text": [
      "DSMP\n"
     ]
    }
   ],
   "source": [
    "def fxn(stng):\n",
    "\n",
    "\toupt = stng[0]\n",
    "\t\n",
    "\tfor i in range(1, len(stng)):\n",
    "\t\tif stng[i-1] == ' ':\n",
    "\t\t\n",
    "\t\t\toupt += stng[i]\n",
    "\t\t\t\n",
    "\toupt = oupt.upper()\n",
    "\treturn oupt\n",
    "\n",
    "inpt1 = \"Data science mentorship program\"\n",
    "\n",
    "print(fxn(inpt1))\n"
   ]
  },
  {
   "cell_type": "markdown",
   "id": "5618bd4e-b1cd-487c-94b1-4d5c1a186f2a",
   "metadata": {},
   "source": [
    "## Problem 12: Append second string in the middle of first string"
   ]
  },
  {
   "cell_type": "raw",
   "id": "04d25f7d-7054-4c4d-904e-33d579e43d90",
   "metadata": {},
   "source": [
    "Input:\n",
    "\n",
    "campusx\n",
    "data"
   ]
  },
  {
   "cell_type": "code",
   "execution_count": 8,
   "id": "158f316e-7812-43cd-b78f-129cf845e57e",
   "metadata": {},
   "outputs": [
    {
     "name": "stdout",
     "output_type": "stream",
     "text": [
      "campusxdata\n"
     ]
    }
   ],
   "source": [
    "print(\"campusx\" + \"data\")"
   ]
  },
  {
   "cell_type": "markdown",
   "id": "7bac4a2a-844a-4350-b073-ec9a9f28dd0e",
   "metadata": {},
   "source": [
    "## Problem 13:Given string contains a combination of the lower and upper case letters. Write a program to arrange the characters of a string so that all lowercase letters should come first."
   ]
  },
  {
   "cell_type": "code",
   "execution_count": null,
   "id": "79fb773d-9f13-4c4c-9ca6-454a09bd7682",
   "metadata": {},
   "outputs": [],
   "source": [
    "Given:\n",
    "\n",
    "str1 = PyNaTive\n",
    "\n",
    "Expected Output:\n",
    "\n",
    "yaivePNT"
   ]
  },
  {
   "cell_type": "markdown",
   "id": "f45a4822-a787-4735-b1bd-684cdc521271",
   "metadata": {},
   "source": [
    "## Problem 14:Take a alphanumeric string input and print the sum and average of the digits that appear in the string, ignoring all other characters."
   ]
  },
  {
   "cell_type": "raw",
   "id": "fd9967e0-b81d-4e19-853d-980a7b7377fb",
   "metadata": {},
   "source": [
    "Input:\n",
    "\n",
    "hel123O4every093\n",
    "\n",
    "Output:\n",
    "\n",
    "Sum: 22\n",
    "Avg: 2.75\n"
   ]
  },
  {
   "cell_type": "code",
   "execution_count": 9,
   "id": "3744928f-eef5-452c-9cba-fb447177d77a",
   "metadata": {},
   "outputs": [
    {
     "name": "stdout",
     "output_type": "stream",
     "text": [
      "Extracted numbers: [123, 4, 93]\n",
      "Sum: 220, Average: 73.33333333333333\n"
     ]
    }
   ],
   "source": [
    "input_str = \"hel123O4every093\"\n",
    "\n",
    "numbers = ''.join((ch if ch in '12304093' else ' ') for ch in input_str)\n",
    "numbers_list = [int(i) for i in numbers.split()]\n",
    "\n",
    "print(f\"Extracted numbers: {numbers_list}\")\n",
    "print(f\"Sum: {sum(numbers_list)}, Average: {sum(numbers_list)/ len(numbers_list)}\")\n"
   ]
  },
  {
   "cell_type": "markdown",
   "id": "95b11c5c-cf54-4a24-81b2-50b4fa59ecf2",
   "metadata": {},
   "source": [
    "## Problem 15: Removal of all characters from a string except integers"
   ]
  },
  {
   "cell_type": "code",
   "execution_count": 10,
   "id": "70e67069-4b80-4f8c-8ab0-8afe30b7edd3",
   "metadata": {},
   "outputs": [
    {
     "name": "stdout",
     "output_type": "stream",
     "text": [
      "The given string is:\n",
      "Iam25yearsand10monthsold\n",
      "Removing all the characters except digits\n",
      "2510\n"
     ]
    }
   ],
   "source": [
    "str1 = \"Iam25yearsand10monthsold\"\n",
    "print(\"The given string is:\")\n",
    "\n",
    "print(str1)\n",
    "\n",
    "print(\"Removing all the characters except digits\")\n",
    "print(''.join(i for i in str1 if i.isdigit()))"
   ]
  },
  {
   "cell_type": "markdown",
   "id": "3b68b940-2a56-421d-869c-643b3e4f478a",
   "metadata": {},
   "source": [
    "## Problem 16: Check whether the string is Symmetrical. Statement: Given a string. the task is to check if the string is symmetrical or not. A string is said to be symmetrical if both the halves of the string are the same."
   ]
  },
  {
   "cell_type": "raw",
   "id": "e1ba4355-29dd-4eeb-a7b3-297a6697ff7e",
   "metadata": {},
   "source": [
    "Example 1:\n",
    "\n",
    "Input\n",
    "\n",
    "khokho\n",
    "Output\n",
    "\n",
    "The entered string is symmetrical"
   ]
  },
  {
   "cell_type": "code",
   "execution_count": 11,
   "id": "178a5261-a193-4a84-860a-bb31afcd679c",
   "metadata": {},
   "outputs": [
    {
     "name": "stdout",
     "output_type": "stream",
     "text": [
      "khokho\n",
      "symmetrical\n",
      "khokho\n",
      "symmetrical\n"
     ]
    }
   ],
   "source": [
    "def check_sym(string):\n",
    "    n=len(string)\n",
    "    flag=0\n",
    "    if n%2:\n",
    "        mid=n//2+1\n",
    "    else:\n",
    "        mid= n//2\n",
    "    start=0\n",
    "    end= mid\n",
    "    while(start <mid and end<n):\n",
    "        if(string[start]== string[end]):\n",
    "            start= start+1\n",
    "            end= end+1\n",
    "        else:\n",
    "            flag=1\n",
    "            break\n",
    "    if flag==0:\n",
    "        print(\"symmetrical\")\n",
    "    else:\n",
    "        print(\"not symmetrical\")\n",
    "\n",
    "# main\n",
    "s= \"khokho\"\n",
    "print (s)\n",
    "check_sym(s)\n",
    "s2= \"khokho\"\n",
    "print(s2)\n",
    "check_sym(s2)"
   ]
  },
  {
   "cell_type": "markdown",
   "id": "1710afe6-a4e6-4fab-b86c-5419cb8b3c85",
   "metadata": {},
   "source": [
    "## Problem 17: Reverse words in a given String Statement: We are given a string and we need to reverse words of a given string."
   ]
  },
  {
   "cell_type": "code",
   "execution_count": null,
   "id": "ce9ce7a3-4c1e-489e-80e3-e4bf99002528",
   "metadata": {},
   "outputs": [],
   "source": [
    "Example 1:\n",
    "\n",
    "Input:\n",
    "\n",
    "geeks quiz practice code\n",
    "Output:\n",
    "\n",
    "code practice quiz geeks\n",
    "\n",
    "\n",
    "Example 2:\n",
    "\n",
    "Input:\n",
    "\n",
    "my name is laxmi\n",
    "Output:\n",
    "\n",
    "laxmi is name my    "
   ]
  },
  {
   "cell_type": "code",
   "execution_count": 12,
   "id": "21365d3f-fa85-4e9b-9b83-924251a933d9",
   "metadata": {},
   "outputs": [
    {
     "name": "stdout",
     "output_type": "stream",
     "text": [
      "code practice quiz geeks\n"
     ]
    }
   ],
   "source": [
    "string = \"geeks quiz practice code\"\n",
    "\n",
    "s = string.split() [::-1]\n",
    "l = []\n",
    "for  i in s:\n",
    "    l.append(i)\n",
    "print(\" \".join(l))"
   ]
  },
  {
   "cell_type": "code",
   "execution_count": 13,
   "id": "0ce1e78a-a88b-4643-838a-e9bf7b3b2a85",
   "metadata": {},
   "outputs": [
    {
     "name": "stdout",
     "output_type": "stream",
     "text": [
      "laxmi is name my\n"
     ]
    }
   ],
   "source": [
    "string = \"my name is laxmi\"\n",
    "\n",
    "s = string.split() [::-1]\n",
    "l = []\n",
    "for i in s:\n",
    "    l.append(i)\n",
    "print(\" \".join(l))\n"
   ]
  },
  {
   "cell_type": "markdown",
   "id": "6c3c2b1e-f210-4b00-a4e3-8766a815c581",
   "metadata": {},
   "source": [
    "## Problem 18: Find uncommon words from two Strings.Statement: Given two sentences as strings A and B. The task is to return a list of all uncommon words. A word is uncommon if it appears exactly once in any one of the sentences, and does not appear in the other sentence. Note: A sentence is a string of space-separated words. Each word consists only of lowercase letters."
   ]
  },
  {
   "cell_type": "code",
   "execution_count": null,
   "id": "5204142e-65b7-4c0f-b92c-4f7dd5b5acc7",
   "metadata": {},
   "outputs": [],
   "source": [
    "Example 1:\n",
    "\n",
    "Input:\n",
    "\n",
    "A = \"apple banana mango\" \n",
    "B = \"banana fruits mango\"\n",
    "Output:\n",
    "\n",
    "['apple', 'fruits']"
   ]
  },
  {
   "cell_type": "code",
   "execution_count": 14,
   "id": "6a219b68-5c4d-4130-8fae-11d676f208c8",
   "metadata": {},
   "outputs": [
    {
     "name": "stdout",
     "output_type": "stream",
     "text": [
      "['apple', 'fruits']\n"
     ]
    }
   ],
   "source": [
    "def UncommonWords(A, B):\n",
    "\n",
    "\tcount = {}\n",
    "\n",
    "\tfor word in A.split():\n",
    "\t\tcount[word] = count.get(word, 0) + 1\n",
    "\n",
    "\tfor word in B.split():\n",
    "\t\tcount[word] = count.get(word, 0) + 1\n",
    "\n",
    "\treturn [word for word in count if count[word] == 1]\n",
    "\n",
    "A = \"apple banana mango\"\n",
    "B = \"banana fruits mango\"\n",
    "\n",
    "print(UncommonWords(A, B))\n"
   ]
  },
  {
   "cell_type": "code",
   "execution_count": null,
   "id": "44791839-850b-4596-b77b-4ca9eda48f99",
   "metadata": {},
   "outputs": [],
   "source": []
  }
 ],
 "metadata": {
  "kernelspec": {
   "display_name": "Python 3 (ipykernel)",
   "language": "python",
   "name": "python3"
  },
  "language_info": {
   "codemirror_mode": {
    "name": "ipython",
    "version": 3
   },
   "file_extension": ".py",
   "mimetype": "text/x-python",
   "name": "python",
   "nbconvert_exporter": "python",
   "pygments_lexer": "ipython3",
   "version": "3.11.7"
  },
  "widgets": {
   "application/vnd.jupyter.widget-state+json": {
    "state": {},
    "version_major": 2,
    "version_minor": 0
   }
  }
 },
 "nbformat": 4,
 "nbformat_minor": 5
}
